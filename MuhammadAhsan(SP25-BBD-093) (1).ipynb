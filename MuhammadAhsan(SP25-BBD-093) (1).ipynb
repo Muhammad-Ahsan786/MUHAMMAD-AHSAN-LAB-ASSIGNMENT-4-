{
 "cells": [
  {
   "cell_type": "markdown",
   "id": "939ed86c-0386-43c9-8077-d2a64c0a803b",
   "metadata": {},
   "source": [
    "# Basic Function Call"
   ]
  },
  {
   "cell_type": "code",
   "execution_count": 1,
   "id": "ae1870e3-b8ee-47f7-a84d-9613f307f9d0",
   "metadata": {},
   "outputs": [
    {
     "name": "stdout",
     "output_type": "stream",
     "text": [
      "hello, python learner!\n"
     ]
    }
   ],
   "source": [
    "def say_hello():\n",
    "    print(\"hello, python learner!\")\n",
    "say_hello () "
   ]
  },
  {
   "cell_type": "markdown",
   "id": "c12f6e4a-4195-4cca-8a11-dc63363244e9",
   "metadata": {},
   "source": [
    "# Function with a Parameter"
   ]
  },
  {
   "cell_type": "code",
   "execution_count": 3,
   "id": "dd632713-3c4a-4467-88c2-e1f2fc41973a",
   "metadata": {},
   "outputs": [
    {
     "name": "stdout",
     "output_type": "stream",
     "text": [
      "Hello, ahsan!\n"
     ]
    }
   ],
   "source": [
    "def greet_user(name):\n",
    "    print(f\"Hello, {name}!\")\n",
    "\n",
    "greet_user(\"ahsan\")"
   ]
  },
  {
   "cell_type": "markdown",
   "id": "f808c5f4-2857-4e26-8cfe-148e0e9a57c2",
   "metadata": {},
   "source": [
    " # Positional vs Keyword Arguments"
   ]
  },
  {
   "cell_type": "code",
   "execution_count": 9,
   "id": "b05813f7-62de-4447-8564-853804104127",
   "metadata": {},
   "outputs": [
    {
     "name": "stdout",
     "output_type": "stream",
     "text": [
      "\n",
      "I have a cat.\n",
      "My cat's name is jeery.\n",
      "\n",
      "I have a dog.\n",
      "My dog's name is sheru.\n"
     ]
    }
   ],
   "source": [
    "def describe_pet(animal_type, pet_name):\n",
    "    print(f\"\\nI have a {animal_type}.\")\n",
    "    print(f\"My {animal_type}'s name is {pet_name}.\")\n",
    "\n",
    "# Positional arguments\n",
    "describe_pet(\"cat\", \"jeery\")\n",
    "\n",
    "# Keyword arguments\n",
    "describe_pet(pet_name=\"sheru\", animal_type=\"dog\")\n"
   ]
  },
  {
   "cell_type": "markdown",
   "id": "70bbcff1-0cfc-4ccb-b8ff-d2ec562fa6de",
   "metadata": {},
   "source": [
    "# Default Parameters"
   ]
  },
  {
   "cell_type": "code",
   "execution_count": 16,
   "id": "f8f0f68f-2398-44f5-82a7-ff53e186da58",
   "metadata": {},
   "outputs": [
    {
     "name": "stdout",
     "output_type": "stream",
     "text": [
      "\n",
      "I have a dog.\n",
      "My dog's name is sheru.\n",
      "\n",
      "I have a cat.\n",
      "My cat's name is jerry.\n"
     ]
    }
   ],
   "source": [
    "def describe_pet(pet_name, animal_type=\"dog\"):\n",
    "    print(f\"\\nI have a {animal_type}.\")\n",
    "    print(f\"My {animal_type}'s name is {pet_name}.\")\n",
    "\n",
    "# Using default animal_type\n",
    "describe_pet(\"sheru\")\n",
    "\n",
    "# Overriding default\n",
    "describe_pet(\"jerry\", \"cat\")\n"
   ]
  },
  {
   "cell_type": "markdown",
   "id": "27c64887-6b21-45ce-96d1-e6ff2ccc81b3",
   "metadata": {},
   "source": [
    "# Returning Formatted Name"
   ]
  },
  {
   "cell_type": "code",
   "execution_count": 21,
   "id": "3e2a49fe-5ee3-430e-ad2a-2055d3b29d23",
   "metadata": {},
   "outputs": [
    {
     "name": "stdout",
     "output_type": "stream",
     "text": [
      "Md Ahsan\n"
     ]
    }
   ],
   "source": [
    "def get_formatted_name(first, last):\n",
    "    full_name = f\"{first} {last}\"\n",
    "    return full_name.title()\n",
    "\n",
    "name = get_formatted_name(\"MD\", \"AHSAN\")\n",
    "print(name)\n"
   ]
  },
  {
   "cell_type": "markdown",
   "id": "d2e18be0-44f6-434d-8ff6-077598cf2ede",
   "metadata": {},
   "source": [
    " # Optional Middle Name"
   ]
  },
  {
   "cell_type": "code",
   "execution_count": 27,
   "id": "a1414de4-7f5f-4c92-b825-7af58889ebae",
   "metadata": {
    "scrolled": true
   },
   "outputs": [
    {
     "name": "stdout",
     "output_type": "stream",
     "text": [
      "Md Ahsan\n",
      "Md Adeel Ahsan\n"
     ]
    }
   ],
   "source": [
    "def get_formatted_name(first, last, middle=\"\"):\n",
    "    if middle:\n",
    "        full_name = f\"{first} {middle} {last}\"\n",
    "    else:\n",
    "        full_name = f\"{first} {last}\"\n",
    "    return full_name.title()\n",
    "\n",
    "print(get_formatted_name(\"MD\", \"ahsan\"))\n",
    "print(get_formatted_name(\"MD\", \"ahsan\", \"adeel\"))\n"
   ]
  },
  {
   "cell_type": "markdown",
   "id": "ebfcd1d1-c5f4-41f0-9d6e-3cdbe304e706",
   "metadata": {},
   "source": [
    " # Returning a Dictionary"
   ]
  },
  {
   "cell_type": "code",
   "execution_count": 29,
   "id": "953a3eed-5586-4027-bd4b-cae43377d028",
   "metadata": {},
   "outputs": [
    {
     "name": "stdout",
     "output_type": "stream",
     "text": [
      "{'first': 'md', 'last': 'ahsan', 'age': 19}\n",
      "{'first': 'raheel', 'last': 'ali'}\n"
     ]
    }
   ],
   "source": [
    "def build_person(first, last, age=None):\n",
    "    person = {'first': first, 'last': last}\n",
    "    if age:\n",
    "        person['age'] = age\n",
    "    return person\n",
    "\n",
    "print(build_person(\"md\", \"ahsan\", 19))\n",
    "print(build_person(\"raheel\", \"ali\"))\n"
   ]
  },
  {
   "cell_type": "markdown",
   "id": "93ecd6c8-3075-4116-adf2-11fbc0eff816",
   "metadata": {},
   "source": [
    "# Greeting a List of Users"
   ]
  },
  {
   "cell_type": "code",
   "execution_count": 34,
   "id": "f9936356-228d-4bd8-9328-9bdff4c5f15a",
   "metadata": {},
   "outputs": [
    {
     "name": "stdout",
     "output_type": "stream",
     "text": [
      "Hello, md!\n",
      "Hello, ahsan!\n",
      "Hello, adeel!\n"
     ]
    }
   ],
   "source": [
    "def greet_users(usernames):\n",
    "    for name in usernames:\n",
    "        print(f\"Hello, {name}!\")\n",
    "\n",
    "greet_users([\"md\", \"ahsan\", \"adeel\"])\n"
   ]
  },
  {
   "cell_type": "markdown",
   "id": "65c2e2d2-3644-4c96-a6b9-1623e2d1a34f",
   "metadata": {},
   "source": [
    "# Arbitrary Number of Arguments"
   ]
  },
  {
   "cell_type": "code",
   "execution_count": 37,
   "id": "ce9ac0d8-011e-4767-b2c6-af2ce124e387",
   "metadata": {},
   "outputs": [
    {
     "name": "stdout",
     "output_type": "stream",
     "text": [
      "\n",
      "Making a pizza with the following toppings:\n",
      "- pepperoni\n",
      "- mushrooms\n",
      "- extra cheese\n"
     ]
    }
   ],
   "source": [
    "def make_pizza(*toppings):\n",
    "    print(\"\\nMaking a pizza with the following toppings:\")\n",
    "    for topping in toppings:\n",
    "        print(f\"- {topping}\")\n",
    "\n",
    "make_pizza(\"pepperoni\", \"mushrooms\", \"extra cheese\")\n"
   ]
  },
  {
   "cell_type": "markdown",
   "id": "931fd60b-1210-4967-9610-85ca31ac3d6c",
   "metadata": {},
   "source": [
    "# Arbitrary Keyword Arguments"
   ]
  },
  {
   "cell_type": "code",
   "execution_count": 42,
   "id": "6433dd14-4107-4d10-a795-925d90b384a9",
   "metadata": {},
   "outputs": [
    {
     "name": "stdout",
     "output_type": "stream",
     "text": [
      "{'first': 'md', 'last': 'ahsan', 'location': 'lahore', 'field': 'data analyst'}\n"
     ]
    }
   ],
   "source": [
    "def build_profile(first, last, **info):\n",
    "    profile = {'first': first, 'last': last}\n",
    "    profile.update(info)\n",
    "    return profile\n",
    "\n",
    "user_profile = build_profile(\"md\", \"ahsan\", location=\"lahore\", field=\"data analyst\")\n",
    "print(user_profile)\n"
   ]
  },
  {
   "cell_type": "code",
   "execution_count": null,
   "id": "53031955-c74d-420c-9d84-d747d3184b56",
   "metadata": {},
   "outputs": [],
   "source": []
  }
 ],
 "metadata": {
  "kernelspec": {
   "display_name": "Python 3 (ipykernel)",
   "language": "python",
   "name": "python3"
  },
  "language_info": {
   "codemirror_mode": {
    "name": "ipython",
    "version": 3
   },
   "file_extension": ".py",
   "mimetype": "text/x-python",
   "name": "python",
   "nbconvert_exporter": "python",
   "pygments_lexer": "ipython3",
   "version": "3.12.4"
  }
 },
 "nbformat": 4,
 "nbformat_minor": 5
}
